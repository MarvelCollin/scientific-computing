{
 "cells": [
  {
   "cell_type": "code",
   "execution_count": 8,
   "metadata": {},
   "outputs": [
    {
     "name": "stdout",
     "output_type": "stream",
     "text": [
      "[1 2 3]\n",
      "[[1 2 3]\n",
      " [4 5 6]]\n",
      "(3,)\n",
      "(2, 3)\n"
     ]
    }
   ],
   "source": [
    "import numpy as np\n",
    "\n",
    "list = [1,2,3]\n",
    "list2 = [\n",
    "    [1,2,3],\n",
    "    [4,5,6]\n",
    "]\n",
    "\n",
    "# buat menjadi numpy array supaya arraynya bisa digabungin dengan numpy yang lain\n",
    "array = np.array(list)\n",
    "array2 = np.array(list2)\n",
    "print(array)\n",
    "print(array2)\n",
    "\n",
    "print(array.shape) \n",
    "# outputnya (3,) ada 3 isi dan 1 row\n",
    "# yaitu berarti cuman ada \n",
    "print(array2.shape)\n",
    "# outputnya bakalan (2,3) ada 3 isi dan 2 row"
   ]
  },
  {
   "cell_type": "markdown",
   "metadata": {},
   "source": []
  },
  {
   "cell_type": "code",
   "execution_count": 9,
   "metadata": {},
   "outputs": [
    {
     "name": "stdout",
     "output_type": "stream",
     "text": [
      "[[1 2 3]\n",
      " [4 5 6]\n",
      " [7 8 9]]\n"
     ]
    }
   ],
   "source": [
    "list = [\n",
    "    [-1,2,3],\n",
    "    [4,-5,6],\n",
    "    [7,8,9] \n",
    "]\n",
    "\n",
    "# guna numpy abs adalah supaya isinya menjadi absolute (tidak minus)\n",
    "# intinya membuat semuanya menjadii positive\n",
    "print(np.abs(list))\n"
   ]
  }
 ],
 "metadata": {
  "kernelspec": {
   "display_name": "base",
   "language": "python",
   "name": "python3"
  },
  "language_info": {
   "codemirror_mode": {
    "name": "ipython",
    "version": 3
   },
   "file_extension": ".py",
   "mimetype": "text/x-python",
   "name": "python",
   "nbconvert_exporter": "python",
   "pygments_lexer": "ipython3",
   "version": "3.9.13"
  }
 },
 "nbformat": 4,
 "nbformat_minor": 2
}
