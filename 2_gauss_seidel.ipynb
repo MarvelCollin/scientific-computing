{
 "cells": [
  {
   "cell_type": "code",
   "execution_count": 1,
   "metadata": {},
   "outputs": [
    {
     "ename": "AttributeError",
     "evalue": "'list' object has no attribute 'ndim'",
     "output_type": "error",
     "traceback": [
      "\u001b[1;31m---------------------------------------------------------------------------\u001b[0m",
      "\u001b[1;31mAttributeError\u001b[0m                            Traceback (most recent call last)",
      "\u001b[1;32m~\\AppData\\Local\\Temp\\ipykernel_23068\\1460114119.py\u001b[0m in \u001b[0;36m<module>\u001b[1;34m\u001b[0m\n\u001b[0;32m     39\u001b[0m         \u001b[1;32mreturn\u001b[0m \u001b[1;32mFalse\u001b[0m\u001b[1;33m\u001b[0m\u001b[1;33m\u001b[0m\u001b[0m\n\u001b[0;32m     40\u001b[0m \u001b[1;33m\u001b[0m\u001b[0m\n\u001b[1;32m---> 41\u001b[1;33m \u001b[0mgaussian\u001b[0m\u001b[1;33m(\u001b[0m\u001b[0mx\u001b[0m\u001b[1;33m,\u001b[0m\u001b[0my\u001b[0m\u001b[1;33m)\u001b[0m\u001b[1;33m\u001b[0m\u001b[1;33m\u001b[0m\u001b[0m\n\u001b[0m",
      "\u001b[1;32m~\\AppData\\Local\\Temp\\ipykernel_23068\\1460114119.py\u001b[0m in \u001b[0;36mgaussian\u001b[1;34m(x, y, iteration, tolerance)\u001b[0m\n\u001b[0;32m     19\u001b[0m     \u001b[1;31m# dengan np.diag berarti nanti hasil yang didapatkan bakalan menjadi x1, y2, z3\u001b[0m\u001b[1;33m\u001b[0m\u001b[1;33m\u001b[0m\u001b[0m\n\u001b[0;32m     20\u001b[0m \u001b[1;33m\u001b[0m\u001b[0m\n\u001b[1;32m---> 21\u001b[1;33m     \u001b[0mnp\u001b[0m\u001b[1;33m.\u001b[0m\u001b[0mfill_diagonal\u001b[0m\u001b[1;33m(\u001b[0m\u001b[0mx\u001b[0m\u001b[1;33m,\u001b[0m \u001b[1;36m0\u001b[0m\u001b[1;33m)\u001b[0m\u001b[1;33m\u001b[0m\u001b[1;33m\u001b[0m\u001b[0m\n\u001b[0m\u001b[0;32m     22\u001b[0m     \u001b[1;31m# fill_diagonal sama seperti np.diag tapi versi assign\u001b[0m\u001b[1;33m\u001b[0m\u001b[1;33m\u001b[0m\u001b[0m\n\u001b[0;32m     23\u001b[0m     \u001b[1;31m# disebelah x ada 0, yaitu yang mau di assign\u001b[0m\u001b[1;33m\u001b[0m\u001b[1;33m\u001b[0m\u001b[0m\n",
      "\u001b[1;32m<__array_function__ internals>\u001b[0m in \u001b[0;36mfill_diagonal\u001b[1;34m(*args, **kwargs)\u001b[0m\n",
      "\u001b[1;32mc:\\Users\\rical\\anaconda3\\lib\\site-packages\\numpy\\lib\\index_tricks.py\u001b[0m in \u001b[0;36mfill_diagonal\u001b[1;34m(a, val, wrap)\u001b[0m\n\u001b[0;32m    889\u001b[0m     \u001b[0mon\u001b[0m \u001b[0mthe\u001b[0m \u001b[0mflip\u001b[0m \u001b[0mfunction\u001b[0m\u001b[1;33m.\u001b[0m\u001b[1;33m\u001b[0m\u001b[1;33m\u001b[0m\u001b[0m\n\u001b[0;32m    890\u001b[0m     \"\"\"\n\u001b[1;32m--> 891\u001b[1;33m     \u001b[1;32mif\u001b[0m \u001b[0ma\u001b[0m\u001b[1;33m.\u001b[0m\u001b[0mndim\u001b[0m \u001b[1;33m<\u001b[0m \u001b[1;36m2\u001b[0m\u001b[1;33m:\u001b[0m\u001b[1;33m\u001b[0m\u001b[1;33m\u001b[0m\u001b[0m\n\u001b[0m\u001b[0;32m    892\u001b[0m         \u001b[1;32mraise\u001b[0m \u001b[0mValueError\u001b[0m\u001b[1;33m(\u001b[0m\u001b[1;34m\"array must be at least 2-d\"\u001b[0m\u001b[1;33m)\u001b[0m\u001b[1;33m\u001b[0m\u001b[1;33m\u001b[0m\u001b[0m\n\u001b[0;32m    893\u001b[0m     \u001b[0mend\u001b[0m \u001b[1;33m=\u001b[0m \u001b[1;32mNone\u001b[0m\u001b[1;33m\u001b[0m\u001b[1;33m\u001b[0m\u001b[0m\n",
      "\u001b[1;31mAttributeError\u001b[0m: 'list' object has no attribute 'ndim'"
     ]
    }
   ],
   "source": [
    "import numpy as np  \n",
    "\n",
    "x = [\n",
    "    [9,2,3],\n",
    "    [4,11,3],\n",
    "    [2,-3,6]\n",
    "]\n",
    "\n",
    "y = [\n",
    "    12,9,6\n",
    "]\n",
    "\n",
    "def gaussian(x,y, iteration = 20, tolerance = 0.052):\n",
    "    diagonal = np.diag(np.array(x))\n",
    "    # np.diag sini berguna untuk mengambil garis diagonal dalam suatu array\n",
    "    # x1 y1 z1\n",
    "    # x2 y2 z2\n",
    "    # x3 y3 z3\n",
    "    # dengan np.diag berarti nanti hasil yang didapatkan bakalan menjadi x1, y2, z3\n",
    "    \n",
    "    np.fill_diagonal(x, 0)\n",
    "    # fill_diagonal sama seperti np.diag tapi versi assign\n",
    "    # disebelah x ada 0, yaitu yang mau di assign\n",
    "    \n",
    "    # x1 y1 z1\n",
    "    # x2 y2 z2\n",
    "    # x3 y3 z3\n",
    "    \n",
    "    # menjadi \n",
    "    \n",
    "    # 0 y1 z1\n",
    "    # x2 0 z2\n",
    "    # x3 y3 0\n",
    "    \n",
    "    sum = np.sum(np.abs(x), axis = 1)\n",
    "    # np.sum gunanya untuk menjumlahkan kolumn / baris di index pada suatu array\n",
    "    # nah karena mau dijumlahin makanya harus di np.abs yaitu membuat semuanya jadi positif\n",
    "    # axis = 1 -> penjumlahan untuk baris\n",
    "    # axis = 0 -> penjumlahan untuk kolum\n",
    "    \n",
    "    print(sum)  \n",
    "    if not np.all(np.abs(diagonal) > sum):\n",
    "        print(\"Not diagonally dominant\")\n",
    "        return False\n",
    "    \n",
    "gaussian(x,y)\n"
   ]
  },
  {
   "cell_type": "markdown",
   "metadata": {},
   "source": []
  },
  {
   "cell_type": "code",
   "execution_count": 9,
   "metadata": {},
   "outputs": [
    {
     "name": "stdout",
     "output_type": "stream",
     "text": [
      "[[1 2 3]\n",
      " [4 5 6]\n",
      " [7 8 9]]\n"
     ]
    }
   ],
   "source": []
  }
 ],
 "metadata": {
  "kernelspec": {
   "display_name": "base",
   "language": "python",
   "name": "python3"
  },
  "language_info": {
   "codemirror_mode": {
    "name": "ipython",
    "version": 3
   },
   "file_extension": ".py",
   "mimetype": "text/x-python",
   "name": "python",
   "nbconvert_exporter": "python",
   "pygments_lexer": "ipython3",
   "version": "3.9.13"
  }
 },
 "nbformat": 4,
 "nbformat_minor": 2
}
