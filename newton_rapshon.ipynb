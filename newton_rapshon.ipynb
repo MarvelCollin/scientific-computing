{
 "cells": [
  {
   "cell_type": "code",
   "execution_count": 4,
   "metadata": {},
   "outputs": [
    {
     "name": "stdout",
     "output_type": "stream",
     "text": [
      "f(x) :  2.25  x :  2.5\n",
      "f(x) :  0.20249999999999968  x :  2.05\n",
      "f(x) :  0.002439396192741583  x :  2.000609756097561\n",
      "final : f(x) :  0.002439396192741583  x :  2.000609756097561\n"
     ]
    }
   ],
   "source": [
    "import numpy as np \n",
    "\n",
    "def f(x):\n",
    "    return x ** 2 - 4\n",
    "\n",
    "def g(x):\n",
    "    return 2 * x\n",
    "\n",
    "def newton_rapshon(x, tolerance = 0.01, iteration = 15):\n",
    "    for i in range(iteration):\n",
    "        x = x - (f(x) / g(x))\n",
    "        print(\"f(x) : \", f(x), \" x : \", x)\n",
    "        \n",
    "        if(np.abs(f(x)) < tolerance):\n",
    "            print(\"final : f(x) : \", f(x), \" x : \", x)\n",
    "            return\n",
    "    \n",
    "newton_rapshon(4)"
   ]
  }
 ],
 "metadata": {
  "kernelspec": {
   "display_name": "base",
   "language": "python",
   "name": "python3"
  },
  "language_info": {
   "codemirror_mode": {
    "name": "ipython",
    "version": 3
   },
   "file_extension": ".py",
   "mimetype": "text/x-python",
   "name": "python",
   "nbconvert_exporter": "python",
   "pygments_lexer": "ipython3",
   "version": "3.9.13"
  }
 },
 "nbformat": 4,
 "nbformat_minor": 2
}
