{
 "cells": [
  {
   "cell_type": "code",
   "execution_count": 16,
   "metadata": {},
   "outputs": [
    {
     "name": "stdout",
     "output_type": "stream",
     "text": [
      "0.6  |  -0.22399999999999998\n",
      "0.5397849462365591  |  -0.008195206854667791\n",
      "0.5374055073327197  |  -1.3492040671136962e-05\n",
      "-1.3492040671136962e-05\n",
      "final :  0.5374055073327197\n"
     ]
    },
    {
     "data": {
      "text/plain": [
       "0.5374055073327197"
      ]
     },
     "execution_count": 16,
     "metadata": {},
     "output_type": "execute_result"
    }
   ],
   "source": [
    "import numpy as np \n",
    "\n",
    "def f(x):\n",
    "    return x ** 3 - 4 * x ** 2 + 1\n",
    "    # x^3 - 4x^2 + 1\n",
    "\n",
    "def g(x):\n",
    "    return 3*x ** 2 - 8 * x \n",
    "    # 3x^2 - 8x\n",
    "    \n",
    "def newton_rapshon(x, tolerance = 0.001, iteration = 30):\n",
    "    for i in range(iteration):\n",
    "        x = x - (f(x) / g(x))\n",
    "        print(x, \" | \", f(x))\n",
    "        if(np.abs(f(x)) < tolerance):\n",
    "            print(f(x))\n",
    "            print(\"final : \", x)\n",
    "            return x\n",
    "        \n",
    "    \n",
    "newton_rapshon(1)"
   ]
  }
 ],
 "metadata": {
  "kernelspec": {
   "display_name": "base",
   "language": "python",
   "name": "python3"
  },
  "language_info": {
   "codemirror_mode": {
    "name": "ipython",
    "version": 3
   },
   "file_extension": ".py",
   "mimetype": "text/x-python",
   "name": "python",
   "nbconvert_exporter": "python",
   "pygments_lexer": "ipython3",
   "version": "3.9.13"
  }
 },
 "nbformat": 4,
 "nbformat_minor": 2
}
