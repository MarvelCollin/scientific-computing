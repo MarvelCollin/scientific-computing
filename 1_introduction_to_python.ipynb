{
 "cells": [
  {
   "cell_type": "code",
   "execution_count": null,
   "metadata": {},
   "outputs": [],
   "source": [
    "## BASIC PYTON SESI 1\n",
    "\n",
    "angka_1 = 5\n",
    "kalimat_1 = \"Hello World\"\n",
    "# var3 = input(\"Masukkan Angka: \")\n",
    "angka_2 = 10\n",
    "\n",
    "# cara normal\n",
    "print(\"Hasil :\" , angka_1)\n",
    "# lebih enak jika pakai f (supaya bisa pake {variable})\n",
    "print(f\"Hasil : {angka_1}\")\n",
    "# contoh arithmetic\n",
    "# + - * / semuanya caranya sama \n",
    "print(\"====== + - / * ======\")\n",
    "print(angka_1 + angka_2)\n",
    "print(angka_1 - angka_2)\n",
    "print(angka_1 / angka_2)\n",
    "print(angka_1 * angka_2)\n",
    "\n",
    "# **\n",
    "print(\"====== ** ======\")\n",
    "print(3**4)\n",
    "\n",
    "# //\n",
    "print(\"====== // ======\")\n",
    "# habis dibagi lalu dibuletin kebawah\n",
    "print(32//7)\n",
    "\n",
    "\n",
    "\n",
    "\n",
    "\n"
   ]
  }
 ],
 "metadata": {
  "language_info": {
   "name": "python"
  }
 },
 "nbformat": 4,
 "nbformat_minor": 2
}
