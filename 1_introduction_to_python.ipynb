{
 "cells": [
  {
   "cell_type": "code",
   "execution_count": 4,
   "metadata": {},
   "outputs": [
    {
     "name": "stdout",
     "output_type": "stream",
     "text": [
      "Hasil : 5\n",
      "Hasil : 5\n",
      "====== + - / * ======\n",
      "15\n",
      "-5\n",
      "0.5\n",
      "50\n",
      "====== ** ======\n",
      "81\n",
      "====== // ======\n",
      "4\n",
      "====== if else ======\n",
      "angka 1 lebih kecil daripada 10\n",
      "====== looping ======\n",
      "0\n",
      "1\n",
      "2\n",
      "3\n",
      "4\n",
      "1\n",
      "2\n",
      "3\n",
      "4\n",
      "====== function ======\n",
      "15 : default z : 10\n"
     ]
    }
   ],
   "source": [
    "## BASIC PYTON SESI 1\n",
    "\n",
    "angka_1 = 5\n",
    "kalimat_1 = \"Hello World\"\n",
    "# var3 = input(\"Masukkan Angka: \")\n",
    "angka_2 = 10\n",
    "\n",
    "# cara normal\n",
    "print(\"Hasil :\" , angka_1)\n",
    "\n",
    "# lebih enak jika pakai f (supaya bisa pake {variable})\n",
    "print(f\"Hasil : {angka_1}\")\n",
    "# contoh arithmetic\n",
    "# + - * / semuanya caranya sama \n",
    "print(\"====== + - / * ======\")\n",
    "print(angka_1 + angka_2)\n",
    "print(angka_1 - angka_2)\n",
    "print(angka_1 / angka_2)\n",
    "print(angka_1 * angka_2)\n",
    "\n",
    "# **\n",
    "print(\"====== ** ======\")\n",
    "print(3**4)\n",
    "\n",
    "# //\n",
    "print(\"====== // ======\")\n",
    "# habis dibagi lalu dibuletin kebawah\n",
    "print(32//7)\n",
    "\n",
    "# selection (if else)\n",
    "print(\"====== if else ======\")\n",
    "\n",
    "angka_1 = 5\n",
    "if(angka_1 < 10) : \n",
    "    print(\"angka 1 lebih kecil daripada 10\")\n",
    "elif(angka_1 == 10 and 10 == 10) :\n",
    "    print(\"angka 1 sama dengan 10\")\n",
    "else :\n",
    "    print(\"angka 1 lebih dari 10\")\n",
    "\n",
    "# looping\n",
    "print(\"====== looping ======\")\n",
    "for i in range(5):\n",
    "    print(i)\n",
    "\n",
    "angka_1 = 1\n",
    "while(angka_1 < 5):\n",
    "    print(angka_1)\n",
    "    angka_1 += 1\n",
    "    \n",
    "# function\n",
    "print(\"====== function ======\")\n",
    "def tambah(x, y, z = 10):\n",
    "    print(f\"{x + y} : default z : {z}\")\n",
    "    \n",
    "tambah(5, 10)"
   ]
  },
  {
   "cell_type": "code",
   "execution_count": 1,
   "metadata": {},
   "outputs": [
    {
     "name": "stdout",
     "output_type": "stream",
     "text": [
      "['anjing', 'kucing', 'marco']\n",
      "anjing\n",
      "{'nama': 'kolin', 'umur': 12}\n",
      "kolin\n",
      "{'set3', 'set2', 'set1'}\n",
      "('tuple1', 'tuple2', 'tuple3')\n",
      "['anjing', 'kucing']\n",
      "['marco']\n"
     ]
    }
   ],
   "source": [
    "# LIST []\n",
    " # Changeable, Ordered, Indexed\n",
    "# DICTIONARY {}\n",
    " # Changeable, Unordered, Indexed\n",
    "# TUPLE\n",
    " # Unchangeable, Ordered, Indexed\n",
    "# SET\n",
    " # Unordered\n",
    "\n",
    "\n",
    "# list\n",
    "list_hewan = [\"anjing\", \"kucing\", \"marco\"]\n",
    "print(list_hewan)\n",
    "print(list_hewan[0])\n",
    "\n",
    "# dictionary \n",
    "# mirip json\n",
    "# key : value\n",
    "orang_1 = {\"nama\" : \"kolin\", \"umur\" : 12}\n",
    "\n",
    "print(orang_1)\n",
    "# cara akses ke dalam\n",
    "print(orang_1[\"nama\"])\n",
    "\n",
    "# Set\n",
    "set = {\"set1\", \"set2\", \"set3\", \"set1\"}\n",
    "print(set)\n",
    "\n",
    "\n",
    "# Tuple\n",
    "tuple = (\"tuple1\", \"tuple2\", \"tuple3\")\n",
    "print(tuple) \n",
    "\n",
    "# pakai :\n",
    "print(list_hewan[:2]) # berarti print sampai index ke 2\n",
    "print(list_hewan[2:]) # berarti print dari index 2 dan seterusnya"
   ]
  },
  {
   "cell_type": "code",
   "execution_count": 3,
   "metadata": {},
   "outputs": [
    {
     "name": "stdout",
     "output_type": "stream",
     "text": [
      "kolin\n",
      "kolin\n",
      "name : kolin\n",
      "name : kepin\n",
      "4\n",
      "{10}\n",
      "Hello, ashid!\n"
     ]
    }
   ],
   "source": [
    "dictionary = {\"name\": \"kolin\", \"age\" : 9}\n",
    "# 'title' : 'value'\n",
    "\n",
    "print(dictionary[\"name\"])\n",
    "\n",
    "dictionary_with_list = [\n",
    "    {\n",
    "        \"name\" : \"kolin\",\n",
    "        \"age\" : 2\n",
    "    },\n",
    "    {\n",
    "        \"name\" : \"kepin\",\n",
    "        \"age\" : 10\n",
    "    }\n",
    "]\n",
    "\n",
    "print(dictionary_with_list[0][\"name\"])\n",
    "\n",
    "for person in dictionary_with_list :\n",
    "    print(f\"name : {person['name']}\")\n",
    "\n",
    "tuple = (1,3,4)\n",
    "\n",
    "print(tuple[2])\n",
    "\n",
    "set = {10,2,3}\n",
    "set2 = {10,1,5}\n",
    "\n",
    "hasil = set.intersection(set2)\n",
    "\n",
    "print(hasil)\n",
    "\n",
    "name = input(\"Enter your name: \")\n",
    "print(f\"Hello, {name}!\")\n"
   ]
  },
  {
   "cell_type": "code",
   "execution_count": 2,
   "metadata": {},
   "outputs": [
    {
     "name": "stdout",
     "output_type": "stream",
     "text": [
      "ndim : 2\n",
      "shape : (2, 3)\n",
      "[[0. 0. 0.]\n",
      " [0. 0. 0.]]\n",
      "[[1. 1.]\n",
      " [1. 1.]]\n",
      "[[0. 0. 0.]\n",
      " [0. 0. 0.]]\n",
      "[[0.84715337 0.60646299 0.73287858]\n",
      " [0.40876557 0.87356435 0.06594394]]\n",
      "\n",
      "\n",
      "[1, 3, 5, 7]\n"
     ]
    }
   ],
   "source": [
    "import numpy as np  \n",
    "\n",
    "arr = np.array([\n",
    "    [1,2,3],\n",
    "    [4,5,6]\n",
    "])\n",
    "\n",
    "print(f\"ndim : {arr.ndim}\")\n",
    "print(f\"shape : {arr.shape}\")\n",
    "\n",
    "zeros = np.zeros((2,3))\n",
    "print(zeros)\n",
    "\n",
    "ones = np.ones((2,2))\n",
    "print(ones)\n",
    "\n",
    "empty = np.empty((2,3))\n",
    "print(empty)\n",
    "\n",
    "random = np.random.random((2,3))\n",
    "print(random)\n",
    "\n",
    "arr = [1,2,3,4]\n",
    "result_sum = np.sum(arr)\n",
    "\n",
    "print('\\n')\n",
    "numbers = [1,2,3,4,5,6,7]\n",
    "print(numbers[::2])\n",
    "\n"
   ]
  },
  {
   "cell_type": "code",
   "execution_count": 16,
   "metadata": {},
   "outputs": [
    {
     "name": "stdout",
     "output_type": "stream",
     "text": [
      "bukan siapa siapa\n",
      "0\n",
      "1\n",
      "2\n",
      "3\n",
      "4\n",
      "5\n",
      "6\n",
      "7\n",
      "8\n",
      "9\n",
      "1\n",
      "3\n",
      "5\n"
     ]
    }
   ],
   "source": [
    "name = input(\"input your name : \")\n",
    "\n",
    "if name == \"kolin\":\n",
    "    print(\"namanya kolin\")\n",
    "elif name == \"stiphen\" :\n",
    "    print(\"namanya stiphen\")\n",
    "else : \n",
    "    print(\"bukan siapa siapa\")\n",
    "    \n",
    "    \n",
    "for i in range(10) :\n",
    "\tprint(i)\n",
    " \n",
    "for i in range(1, 7, 2) : \n",
    "\tprint(i)"
   ]
  },
  {
   "cell_type": "code",
   "execution_count": 45,
   "metadata": {},
   "outputs": [
    {
     "ename": "SyntaxError",
     "evalue": "invalid syntax (409182370.py, line 3)",
     "output_type": "error",
     "traceback": [
      "\u001b[1;36m  File \u001b[1;32m\"C:\\Users\\rical\\AppData\\Local\\Temp\\ipykernel_14220\\409182370.py\"\u001b[1;36m, line \u001b[1;32m3\u001b[0m\n\u001b[1;33m    match user_role:\u001b[0m\n\u001b[1;37m          ^\u001b[0m\n\u001b[1;31mSyntaxError\u001b[0m\u001b[1;31m:\u001b[0m invalid syntax\n"
     ]
    }
   ],
   "source": []
  }
 ],
 "metadata": {
  "kernelspec": {
   "display_name": "base",
   "language": "python",
   "name": "python3"
  },
  "language_info": {
   "codemirror_mode": {
    "name": "ipython",
    "version": 3
   },
   "file_extension": ".py",
   "mimetype": "text/x-python",
   "name": "python",
   "nbconvert_exporter": "python",
   "pygments_lexer": "ipython3",
   "version": "3.9.13"
  }
 },
 "nbformat": 4,
 "nbformat_minor": 2
}
