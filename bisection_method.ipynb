{
 "cells": [
  {
   "cell_type": "code",
   "execution_count": 6,
   "metadata": {},
   "outputs": [
    {
     "name": "stdout",
     "output_type": "stream",
     "text": [
      "Root =  2.0\n"
     ]
    }
   ],
   "source": [
    "import numpy as np \n",
    "\n",
    "def f(x):\n",
    "    return x ** 2 - 4\n",
    "    # x^3 - 4x^2 + 1\n",
    "\n",
    "def bisection(a, b, tolerance = 0.001):\n",
    "    if(np.sign(f(a)) == np.sign(f(b))):\n",
    "        print(f(a), \" | \", f(b))\n",
    "        print(\"coordinate invlaid\")\n",
    "        return\n",
    "    \n",
    "    c = (a + b) / 2\n",
    "    \n",
    "    if(np.abs(f(c)) < tolerance):\n",
    "        print(\"Root = \", c)\n",
    "        return\n",
    "    elif(np.sign(f(c)) == np.sign(f(a))):\n",
    "        bisection(c, b, tolerance)\n",
    "    elif(np.sign(f(c)) == np.sign(f(b))):\n",
    "        bisection(a, c, tolerance)\n",
    "        \n",
    "bisection(0, 4)"
   ]
  }
 ],
 "metadata": {
  "kernelspec": {
   "display_name": "base",
   "language": "python",
   "name": "python3"
  },
  "language_info": {
   "codemirror_mode": {
    "name": "ipython",
    "version": 3
   },
   "file_extension": ".py",
   "mimetype": "text/x-python",
   "name": "python",
   "nbconvert_exporter": "python",
   "pygments_lexer": "ipython3",
   "version": "3.9.13"
  }
 },
 "nbformat": 4,
 "nbformat_minor": 2
}
