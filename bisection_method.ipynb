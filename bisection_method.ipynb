{
 "cells": [
  {
   "cell_type": "code",
   "execution_count": 1,
   "metadata": {},
   "outputs": [
    {
     "name": "stdout",
     "output_type": "stream",
     "text": [
      "b ditimpa c\n",
      "a ditimpa c\n",
      "a ditimpa c\n",
      "b ditimpa c\n",
      "b ditimpa c\n",
      "a ditimpa c\n",
      "a ditimpa c\n",
      "b ditimpa c\n",
      "b ditimpa c\n",
      "a ditimpa c\n",
      "a ditimpa c\n",
      "b ditimpa c\n",
      "root :  2.0001220703125  with coordinate x1 =  1.99951171875  x2 =  2.000732421875\n"
     ]
    }
   ],
   "source": [
    "import numpy as np \n",
    "\n",
    "def f(x):\n",
    "    return x ** 2 - 4\n",
    "\n",
    "def bisection_method(a, b, tolerance = 0.001):\n",
    "    if(np.sign(f(a)) == np.sign(f(b))):\n",
    "        print(\"invalid coordinate\")\n",
    "        return\n",
    "\n",
    "    c = (a + b) / 2\n",
    "    \n",
    "    if(np.abs(f(c)) < tolerance):\n",
    "        print(\"root : \", c, \" with coordinate x1 = \", a, \" x2 = \", b)\n",
    "        return\n",
    "    elif(np.sign(f(a)) == np.sign(f(c))):\n",
    "        print(\"a ditimpa c\")\n",
    "        bisection_method(c, b, tolerance)\n",
    "    elif(np.sign(f(b)) == np.sign(f(c))):\n",
    "        print(\"b ditimpa c\")\n",
    "        bisection_method(a, c, tolerance)\n",
    "        \n",
    "coordinates = [r\n",
    "    [3, 4],\n",
    "    [-10, 17],\n",
    "    [10, -15],\n",
    "    [-2, 4],\n",
    "    [12, -5],\n",
    "    [-8, -13],\n",
    "    [7, -21]\n",
    "]\n",
    "\n",
    "# for i in coordinates:\n",
    "#     bisection_method(i[0], i[1])   \n",
    "    \n",
    "bisection_method(0, 5)"
   ]
  }
 ],
 "metadata": {
  "kernelspec": {
   "display_name": "base",
   "language": "python",
   "name": "python3"
  },
  "language_info": {
   "codemirror_mode": {
    "name": "ipython",
    "version": 3
   },
   "file_extension": ".py",
   "mimetype": "text/x-python",
   "name": "python",
   "nbconvert_exporter": "python",
   "pygments_lexer": "ipython3",
   "version": "3.9.13"
  }
 },
 "nbformat": 4,
 "nbformat_minor": 2
}
