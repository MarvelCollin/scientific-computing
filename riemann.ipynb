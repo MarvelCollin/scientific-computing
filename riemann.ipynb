{
 "cells": [
  {
   "cell_type": "code",
   "execution_count": null,
   "metadata": {},
   "outputs": [
    {
     "ename": "SyntaxError",
     "evalue": "invalid syntax (257686367.py, line 25)",
     "output_type": "error",
     "traceback": [
      "\u001b[1;36m  File \u001b[1;32m\"C:\\Users\\rical\\AppData\\Local\\Temp\\ipykernel_14800\\257686367.py\"\u001b[1;36m, line \u001b[1;32m25\u001b[0m\n\u001b[1;33m    print(leftRiemannn)\u001b[0m\n\u001b[1;37m    ^\u001b[0m\n\u001b[1;31mSyntaxError\u001b[0m\u001b[1;31m:\u001b[0m invalid syntax\n"
     ]
    }
   ],
   "source": [
    "# NORMAL\n",
    "import numpy as np \n",
    "\n",
    "def f(x):\n",
    "    return x ** 2 - 5\n",
    "    \n",
    "start = 3\n",
    "end = 5\n",
    "interval = 10\n",
    "# h -> jangka setiap langkah antara dua titik\n",
    "h = (end - start) / (interval - 1)\n",
    "points = np.linspace(start, end, interval)\n",
    "\n",
    "leftRiemannn = h * np.sum(f(points[:-1]))\n",
    "rightRiemann = h * np.sum(f(points[1:]))\n",
    "midRiemann = h * np.sum(\n",
    "        f((points[:-1] + points[1:]) / 2)\n",
    "    )\n",
    "trapezoidRiemann = h / 2 * (\n",
    "        np.sum(f(points[0] + points[-1])     ) \n",
    "        + 2 \n",
    "        * np.sum(f((points[1:-1])))\n",
    "    )\n",
    "\n",
    "print(leftRiemannn) \n",
    "print(rightRiemann)\n",
    "print(midRiemann)   \n",
    "print(trapezoidRiemann)"
   ]
  },
  {
   "cell_type": "code",
   "execution_count": 46,
   "metadata": {},
   "outputs": [
    {
     "name": "stdout",
     "output_type": "stream",
     "text": [
      "384.4323034267851\n",
      "399.3288551509231\n",
      "387.26026006636687\n",
      "324.84609653023347\n"
     ]
    }
   ],
   "source": [
    "\n",
    "# CASE 1\n",
    "import numpy as np\n",
    "\n",
    "def f(x):\n",
    "    return (4 * x ** 4) + (2 * x ** 3) - (6 * x)\n",
    "\n",
    "start = -3\n",
    "end = 3\n",
    "interval = 30\n",
    "h = (end - start) / (interval - 1)\n",
    "\n",
    "points = np.linspace(start, end, interval)\n",
    "\n",
    "leftRiemann = h * np.sum(f(points[:-1]))\n",
    "rightRiemann = h * np.sum(f(points[1:]))\n",
    "midRiemann = h * np.sum(\n",
    "        f(\n",
    "            ( points[:-1] + points[1:] )\n",
    "            / 2\n",
    "        )\n",
    "    )\n",
    "trapezoidRiemann = h / 2 * (\n",
    "        np.sum(f(points[0] + points[-1])     ) \n",
    "        + 2 \n",
    "        * np.sum(f((points[1:-1])))\n",
    "    )\n",
    "\n",
    "print(leftRiemann)\n",
    "print(rightRiemann)\n",
    "print(midRiemann)\n",
    "print(trapezoidRiemann)"
   ]
  },
  {
   "cell_type": "code",
   "execution_count": 44,
   "metadata": {},
   "outputs": [
    {
     "name": "stdout",
     "output_type": "stream",
     "text": [
      "21.583893023276122\n"
     ]
    }
   ],
   "source": [
    "# CASE  2\n",
    "import numpy as np\n",
    "\n",
    "def f(x):\n",
    "    return np.sin(x)**2 + np.sin(x) + 2\n",
    "\n",
    "start = -np.pi\n",
    "end = 2 * np.pi\n",
    "interval= 27\n",
    "h = (end - start) / (interval - 1)\n",
    "points = np.linspace(start, end, interval)\n",
    "\n",
    "trapezoidRiemann = h / 2 * (\n",
    "                    np.sum(f(points[0]) + f(points[-1])) + \n",
    "                    2 *\n",
    "                    np.sum(f(points[1:-1]))\n",
    "                )\n",
    "\n",
    "print(trapezoidRiemann)"
   ]
  }
 ],
 "metadata": {
  "kernelspec": {
   "display_name": "base",
   "language": "python",
   "name": "python3"
  },
  "language_info": {
   "codemirror_mode": {
    "name": "ipython",
    "version": 3
   },
   "file_extension": ".py",
   "mimetype": "text/x-python",
   "name": "python",
   "nbconvert_exporter": "python",
   "pygments_lexer": "ipython3",
   "version": "3.9.13"
  }
 },
 "nbformat": 4,
 "nbformat_minor": 2
}
