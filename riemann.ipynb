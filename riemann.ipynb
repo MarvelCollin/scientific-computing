{
 "cells": [
  {
   "cell_type": "code",
   "execution_count": 23,
   "metadata": {},
   "outputs": [
    {
     "name": "stdout",
     "output_type": "stream",
     "text": [
      "384.4323034267851\n",
      "399.3288551509231\n",
      "387.26026006636687\n"
     ]
    }
   ],
   "source": [
    "import numpy as np\n",
    "\n",
    "def f(x):\n",
    "    return (4 * x ** 4) + (2 * x ** 3) - (6 * x)\n",
    "\n",
    "start = -3\n",
    "end = 3\n",
    "interval = 30\n",
    "h = (end - start) / (interval - 1)\n",
    "\n",
    "points = np.linspace(start, end, interval)\n",
    "\n",
    "leftRiemann = h * np.sum(f(points[:-1]))\n",
    "rightRiemann = h * np.sum(f(points[1:]))\n",
    "midRiemann = h * np.sum(\n",
    "        f(\n",
    "            ( points[:-1] + points[1:] )\n",
    "            / 2\n",
    "        )\n",
    "    )\n",
    "\n",
    "print(leftRiemann)\n",
    "print(rightRiemann)\n",
    "print(midRiemann)"
   ]
  },
  {
   "cell_type": "code",
   "execution_count": null,
   "metadata": {},
   "outputs": [
    {
     "name": "stdout",
     "output_type": "stream",
     "text": [
      "21.583893023276122\n"
     ]
    }
   ],
   "source": [
    "import numpy as np\n",
    "\n",
    "def f(x):\n",
    "    return np.sin(x)**2 + np.sin(x) + 2\n",
    "\n",
    "start = -np.pi\n",
    "end = 2 * np.pi\n",
    "interval= 27\n",
    "h = (end - start) / (interval - 1)\n",
    "points = np.linspace(start, end, interval)\n",
    "\n",
    "trapezoidRiemann = h / 2 * (\n",
    "                    f(points[0]) + f(points[-1])\n",
    "                    + \n",
    "                    2 * sum(f(points[1:-1]))\n",
    "                )\n",
    "\n",
    "print(trapezoidRiemann)"
   ]
  }
 ],
 "metadata": {
  "kernelspec": {
   "display_name": "base",
   "language": "python",
   "name": "python3"
  },
  "language_info": {
   "codemirror_mode": {
    "name": "ipython",
    "version": 3
   },
   "file_extension": ".py",
   "mimetype": "text/x-python",
   "name": "python",
   "nbconvert_exporter": "python",
   "pygments_lexer": "ipython3",
   "version": "3.9.13"
  }
 },
 "nbformat": 4,
 "nbformat_minor": 2
}
