{
 "cells": [
  {
   "cell_type": "code",
   "execution_count": 6,
   "metadata": {},
   "outputs": [
    {
     "name": "stdout",
     "output_type": "stream",
     "text": [
      "halo nama saya :  kolin  umur saya :  10\n",
      "halo nama saya : kolin | umur saya : 10\n"
     ]
    }
   ],
   "source": [
    "age = 10\n",
    "name = \"kolin\"\n",
    "\n",
    "# print(\"halo nama saya : \", name, \" umur saya : \", age)\n",
    "print(f\"halo nama saya : {name} | umur saya : {age}\")"
   ]
  },
  {
   "cell_type": "code",
   "execution_count": 8,
   "metadata": {},
   "outputs": [
    {
     "name": "stdout",
     "output_type": "stream",
     "text": [
      "koin\n",
      "halo nama saya : koin\n"
     ]
    }
   ],
   "source": [
    "# Input output\n",
    "\n",
    "name = input(\"nama : \")\n",
    "\n",
    "print(name)\n",
    "print(f\"halo nama saya : {name}\")"
   ]
  },
  {
   "cell_type": "code",
   "execution_count": 13,
   "metadata": {},
   "outputs": [
    {
     "name": "stdout",
     "output_type": "stream",
     "text": [
      "5\n",
      "-1\n",
      "6\n",
      "0.6666666666666666\n",
      "\n",
      "\n",
      "8\n",
      "3\n"
     ]
    }
   ],
   "source": [
    "# + - / * ** //\n",
    "print(2 + 3)\n",
    "print(2 - 3)\n",
    "print(2 * 3)\n",
    "print(2 / 3)\n",
    "\n",
    "print(\"\\n\")\n",
    "\n",
    "print(2 ** 3)\n",
    "print(10 // 3)"
   ]
  },
  {
   "cell_type": "code",
   "execution_count": 15,
   "metadata": {},
   "outputs": [
    {
     "name": "stdout",
     "output_type": "stream",
     "text": [
      "namanya adalah kolin\n"
     ]
    }
   ],
   "source": [
    "name = \"kolin\"\n",
    "\n",
    "if name == \"kolin\" : \n",
    "    print(\"namanya adalah kolin\")\n",
    "elif name == \"stiphen\" :\n",
    "    print(\"namanya adalah stiphen\")\n",
    "else : \n",
    "    print(\"namanya bukan kolin / stiphen\")"
   ]
  },
  {
   "cell_type": "code",
   "execution_count": 1,
   "metadata": {},
   "outputs": [
    {
     "name": "stdout",
     "output_type": "stream",
     "text": [
      "<class 'tuple'> ('asdasd', 'asd', 'a')\n",
      "<class 'dict'> {'name': 'kolin', 'age': 10}\n"
     ]
    }
   ],
   "source": [
    "def test(*args, **kwargs):\n",
    "    print(type(args), args)\n",
    "    print(type(kwargs), kwargs)\n",
    "\n",
    "test(\"asdasd\", \"asd\", \"a\", name = \"kolin\", age = 10)\n"
   ]
  }
 ],
 "metadata": {
  "kernelspec": {
   "display_name": "base",
   "language": "python",
   "name": "python3"
  },
  "language_info": {
   "codemirror_mode": {
    "name": "ipython",
    "version": 3
   },
   "file_extension": ".py",
   "mimetype": "text/x-python",
   "name": "python",
   "nbconvert_exporter": "python",
   "pygments_lexer": "ipython3",
   "version": "3.9.13"
  }
 },
 "nbformat": 4,
 "nbformat_minor": 2
}
